{
 "cells": [
  {
   "cell_type": "markdown",
   "metadata": {},
   "source": [
    "https://gist.github.com/peteflorence/a1da2c759ca1ac2b74af9a83f69ce20e\n",
    "\n",
    "\n",
    "https://jakevdp.github.io/PythonDataScienceHandbook/04.02-simple-scatter-plots.html\n"
   ]
  },
  {
   "cell_type": "code",
   "execution_count": 1,
   "metadata": {},
   "outputs": [],
   "source": [
    "import numpy as np\n",
    "import torch\n",
    "dtype = torch.cuda.FloatTensor\n",
    "dtype_long = torch.cuda.LongTensor"
   ]
  },
  {
   "cell_type": "code",
   "execution_count": 2,
   "metadata": {},
   "outputs": [],
   "source": [
    "\n",
    "def bilinear_interpolate_numpy(im, x, y):\n",
    "    x0 = np.floor(x).astype(int)\n",
    "    x1 = x0 + 1\n",
    "    y0 = np.floor(y).astype(int)\n",
    "    y1 = y0 + 1\n",
    "\n",
    "    x0 = np.clip(x0, 0, im.shape[1]-1)\n",
    "    x1 = np.clip(x1, 0, im.shape[1]-1)\n",
    "    y0 = np.clip(y0, 0, im.shape[0]-1)\n",
    "    y1 = np.clip(y1, 0, im.shape[0]-1)\n",
    "\n",
    "    Ia = im[ y0, x0 ]\n",
    "    Ib = im[ y1, x0 ]\n",
    "    Ic = im[ y0, x1 ]\n",
    "    Id = im[ y1, x1 ]\n",
    "\n",
    "    wa = (x1-x) * (y1-y)\n",
    "    wb = (x1-x) * (y-y0)\n",
    "    wc = (x-x0) * (y1-y)\n",
    "    wd = (x-x0) * (y-y0)\n",
    "\n",
    "    return (Ia.T*wa).T + (Ib.T*wb).T + (Ic.T*wc).T + (Id.T*wd).T"
   ]
  },
  {
   "cell_type": "code",
   "execution_count": 3,
   "metadata": {},
   "outputs": [],
   "source": [
    "\n",
    "def bilinear_interpolate_torch(im, x, y):\n",
    "    x0 = torch.floor(x).type(dtype_long)\n",
    "    x1 = x0 + 1\n",
    "    \n",
    "    y0 = torch.floor(y).type(dtype_long)\n",
    "    y1 = y0 + 1\n",
    "\n",
    "    x0 = torch.clamp(x0, 0, im.shape[1]-1)\n",
    "    x1 = torch.clamp(x1, 0, im.shape[1]-1)\n",
    "    y0 = torch.clamp(y0, 0, im.shape[0]-1)\n",
    "    y1 = torch.clamp(y1, 0, im.shape[0]-1)\n",
    "    \n",
    "    Ia = im[ y0, x0 ][0]\n",
    "    Ib = im[ y1, x0 ][0]\n",
    "    Ic = im[ y0, x1 ][0]\n",
    "    Id = im[ y1, x1 ][0]\n",
    "    \n",
    "    wa = (x1.type(dtype)-x) * (y1.type(dtype)-y)\n",
    "    wb = (x1.type(dtype)-x) * (y-y0.type(dtype))\n",
    "    wc = (x-x0.type(dtype)) * (y1.type(dtype)-y)\n",
    "    wd = (x-x0.type(dtype)) * (y-y0.type(dtype))\n",
    "\n",
    "    return torch.t((torch.t(Ia)*wa)) + torch.t(torch.t(Ib)*wb) + torch.t(torch.t(Ic)*wc) + torch.t(torch.t(Id)*wd)"
   ]
  },
  {
   "cell_type": "code",
   "execution_count": null,
   "metadata": {},
   "outputs": [],
   "source": []
  },
  {
   "cell_type": "code",
   "execution_count": 5,
   "metadata": {},
   "outputs": [
    {
     "name": "stdout",
     "output_type": "stream",
     "text": [
      "numpy result: [2.68]\n",
      "scipy result: [2.68]\n",
      "torch result: tensor([[2.6800]], device='cuda:0')\n"
     ]
    }
   ],
   "source": [
    "# Also use scipy to check for correctness\n",
    "import scipy.interpolate\n",
    "def bilinear_interpolate_scipy(image, x, y):\n",
    "    x_indices = np.arange(image.shape[0])\n",
    "    y_indices = np.arange(image.shape[1])\n",
    "    interp_func = scipy.interpolate.interp2d(x_indices, y_indices, image, kind='linear')\n",
    "    return interp_func(x,y)\n",
    "\n",
    "# Make small sample data that's easy to interpret\n",
    "image = np.ones((5,5))\n",
    "image[3,3] = 4\n",
    "image[3,4] = 3\n",
    "\n",
    "sample_x, sample_y = np.asarray([3.2]), np.asarray([3.4])\n",
    "\n",
    "print(\"numpy result:\", bilinear_interpolate_numpy(image, sample_x, sample_y))\n",
    "print(\"scipy result:\", bilinear_interpolate_scipy(image, sample_x, sample_y))\n",
    "\n",
    "image = torch.unsqueeze(torch.FloatTensor(image).type(dtype),2)\n",
    "sample_x = torch.FloatTensor([sample_x]).type(dtype)\n",
    "sample_y = torch.FloatTensor([sample_y]).type(dtype)\n",
    "\n",
    "print(\"torch result:\", bilinear_interpolate_torch(image, sample_x, sample_y))"
   ]
  },
  {
   "cell_type": "code",
   "execution_count": null,
   "metadata": {},
   "outputs": [],
   "source": []
  },
  {
   "cell_type": "code",
   "execution_count": null,
   "metadata": {},
   "outputs": [],
   "source": []
  }
 ],
 "metadata": {
  "kernelspec": {
   "display_name": "Python [conda env:pm2d_cuda]",
   "language": "python",
   "name": "conda-env-pm2d_cuda-py"
  },
  "language_info": {
   "codemirror_mode": {
    "name": "ipython",
    "version": 3
   },
   "file_extension": ".py",
   "mimetype": "text/x-python",
   "name": "python",
   "nbconvert_exporter": "python",
   "pygments_lexer": "ipython3",
   "version": "3.5.6"
  }
 },
 "nbformat": 4,
 "nbformat_minor": 2
}
