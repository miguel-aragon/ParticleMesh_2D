{
 "cells": [
  {
   "cell_type": "code",
   "execution_count": null,
   "metadata": {},
   "outputs": [],
   "source": []
  },
  {
   "cell_type": "code",
   "execution_count": 1,
   "metadata": {},
   "outputs": [],
   "source": [
    "import sys\n",
    "import numpy as np\n",
    "from   numpy import random, fft\n",
    "import scipy.ndimage as ndimage\n",
    "\n",
    "import matplotlib.pyplot as plt\n",
    "from skimage import color\n",
    "\n",
    "from timeit import default_timer as timer\n"
   ]
  },
  {
   "cell_type": "code",
   "execution_count": 2,
   "metadata": {},
   "outputs": [],
   "source": [
    "start = timer()\n",
    "random.seed(1)"
   ]
  },
  {
   "cell_type": "code",
   "execution_count": 3,
   "metadata": {},
   "outputs": [],
   "source": [
    "#--------------------------------------------------------------\n",
    "#\n",
    "#--------------------------------------------------------------\n",
    "def tvscale(img, wsize=-1,scale=0, invert=False, _plot_size=(6,6)):\n",
    "\n",
    "    plt.rcParams['figure.figsize'] = [_plot_size[0], _plot_size[1]]\n",
    "    \n",
    "    #--- Select image scaling\n",
    "    if scale==0:\n",
    "        im = img\n",
    "    if scale==1:\n",
    "        im = (img-np.min(img)) / (np.max(img)-np.min(img)).astype(float)\n",
    "\n",
    "    if invert==True:\n",
    "        imgplot = plt.imshow(img,interpolation=\"none\", origin='lower',cmap='gray')\n",
    "    else:\n",
    "        imgplot = plt.imshow(img,interpolation=\"none\",cmap='gray')\n",
    "    plt.axis('off')\n",
    "    plt.show()\n",
    " "
   ]
  },
  {
   "cell_type": "code",
   "execution_count": 4,
   "metadata": {},
   "outputs": [],
   "source": [
    "#--------------------------------------------------------------\n",
    "#\n",
    "#--------------------------------------------------------------\n",
    "def subdiv_unitcell_gen(n):\n",
    "    subdiv = np.array( \\\n",
    "        [[0.0, 0.0],\n",
    "         [0.0, 0.5],\n",
    "         [0.5, 0.0],\n",
    "         [0.5, 0.5]])\n",
    "\n",
    "    if (n == 0):\n",
    "        return np.array([0,0])\n",
    "    else:\n",
    "        P = subdiv[:,np.newaxis] + \\\n",
    "            0.5 * subdiv_unitcell_gen(n-1)[np.newaxis,:]\n",
    "        return P.reshape((P.size//2, 2))\n",
    "\n",
    "subdiv_unitcell = [subdiv_unitcell_gen(n) for n in range(8)]"
   ]
  },
  {
   "cell_type": "code",
   "execution_count": 5,
   "metadata": {},
   "outputs": [],
   "source": [
    "#--------------------------------------------------------------\n",
    "#\n",
    "#--------------------------------------------------------------\n",
    "class Interp2D:\n",
    "    \"Reasonably fast bilinear interpolation routine\"\n",
    "    def __init__(self, data):\n",
    "        self.data = data\n",
    "        self.shape = data.shape\n",
    "\n",
    "    def __call__(self, x):\n",
    "        X1 = np.floor(x).astype(int) % self.shape\n",
    "        X2 = np.ceil(x).astype(int) % self.shape\n",
    "        xm = x % 1.0\n",
    "        xn = 1.0 - xm\n",
    "\n",
    "        f1 = self.data[X1[:,0], X1[:,1]]\n",
    "        f2 = self.data[X2[:,0], X1[:,1]]\n",
    "        f3 = self.data[X1[:,0], X2[:,1]]\n",
    "        f4 = self.data[X2[:,0], X2[:,1]]\n",
    "\n",
    "        return  f1 * xn[:,0] * xn[:,1] + \\\n",
    "                f2 * xm[:,0] * xn[:,1] + \\\n",
    "                f3 * xn[:,0] * xm[:,1] + \\\n",
    "                f4 * xm[:,0] * xm[:,1]\n"
   ]
  },
  {
   "cell_type": "code",
   "execution_count": 6,
   "metadata": {},
   "outputs": [],
   "source": [
    "#--------------------------------------------------------------\n",
    "#\n",
    "#--------------------------------------------------------------\n",
    "def gradient_dual(F, i):\n",
    "    return F - np.roll(F, 1, axis=i)\n",
    "\n",
    "#--------------------------------------------------------------\n",
    "#\n",
    "#--------------------------------------------------------------\n",
    "def gradient_2nd_order(F, i):\n",
    "    return   1./12 * np.roll(F,  2, axis=i) - 2./3  * np.roll(F,  1, axis=i) \\\n",
    "           + 2./3  * np.roll(F, -1, axis=i) - 1./12 * np.roll(F, -2, axis=i)\n"
   ]
  },
  {
   "cell_type": "code",
   "execution_count": 7,
   "metadata": {},
   "outputs": [],
   "source": [
    "#--------------------------------------------------------------\n",
    "#\n",
    "#--------------------------------------------------------------\n",
    "class Box:\n",
    "    \"\"\"This object keeps all knowledge about box-sizes and resolutions.\"\"\"\n",
    "    def __init__(self, Nm, Nf, L, qpf = 3):\n",
    "        self.Nm = Nm\n",
    "        self.Nf = Nf\n",
    "        self.L = L\n",
    "        self.qpf = qpf\n",
    "\n",
    "        self.mass_res = L / Nm\n",
    "        self.force_res = L / Nf\n",
    "\n",
    "        self.X = np.indices((Nm, Nm)).astype(float)\n",
    "        self.MX = self.X * self.mass_res\n",
    "\n",
    "        # subdivide mass elements\n",
    "        self.XX = (self.X.transpose([1,2,0]).reshape([Nm**2,2])[:,np.newaxis,:] + \\\n",
    "        subdiv_unitcell[self.qpf]).reshape([Nm**2 * 2**(2*self.qpf), 2])\n",
    "\n",
    "        self.FX = np.indices((Nf, Nf)).astype(float) * self.force_res\n",
    "\n",
    "        # k-values, divide by resolution to get physical scales\n",
    "        self.Km = self.make_K(Nm)\n",
    "        self.km2 = (self.Km**2).sum(axis=0)\n",
    "        self.km2[0, 0] = 1\n",
    "\n",
    "        self.Kf = self.make_K(Nf)\n",
    "        self.kf2 = (self.Kf**2).sum(axis=0)\n",
    "        self.kf2[0, 0] = 1\n",
    "\n",
    "    @staticmethod\n",
    "    def make_K(N):\n",
    "        idx = np.indices((N, N))\n",
    "        return np.where(idx > N/2, idx - N, idx) * (2*np.pi / N)\n",
    "\n",
    "    def generate_init_density(self, P, F = lambda x: 1):\n",
    "        \"\"\"generate initial condition with power-spectrum P and \n",
    "            post-filtering F (either gaussian smoothing or transfer function)\"\"\"\n",
    "        wn = random.normal(0.0, 1.0, (self.Nm, self.Nm))\n",
    "        km = np.sqrt(self.km2)\n",
    "        fwn = fft.fftn(wn) * np.sqrt(P(km)) * F(self.Km)\n",
    "        return fft.ifftn(fwn).real\n",
    "\n",
    "    def compute_density(self, particles):\n",
    "        \"\"\"compute density of partices on the force mesh. the partices are\n",
    "        simply deposited into integer bins, using the searchsorted routine\"\"\"\n",
    "                \n",
    "        idc = ((particles / self.force_res) % self.Nf).astype(int)\n",
    "        idx = np.sort(idc[:,0] * self.Nf + idc[:,1])\n",
    "        cumdens = np.searchsorted(np.r_[idx,self.Nf**2], np.arange(self.Nf**2))\n",
    "        idens =\t(np.r_[cumdens[1:],idx.size]-cumdens).reshape((self.Nf,self.Nf))\n",
    "               \n",
    "        return idens.astype(float) / (2**(2*self.qpf)) * (self.mass_res / self.force_res)**2\n",
    "\n",
    "    def compute_init_potential(self, Dens):\n",
    "        \"\"\"compute velocity potential from initial density\"\"\"\n",
    "        fDens = fft.fftn(Dens)\n",
    "        return fft.ifftn(fDens / self.km2 * self.mass_res**2).real\n",
    "\n",
    "    def compute_init_displacement(self, Dens):\n",
    "        \"\"\"compute Zeldovich displacement from initial density\"\"\"\n",
    "        fDens = fft.fftn(Dens)\n",
    "        fPot  = fDens / self.km2 * self.mass_res**2\n",
    "        vx = fft.ifftn(fPot * -1j * np.sin(self.Km[0])).real / self.mass_res\n",
    "        vy = fft.ifftn(fPot * -1j * np.sin(self.Km[1])).real / self.mass_res\n",
    "        return np.array([vx,vy])\n"
   ]
  },
  {
   "cell_type": "code",
   "execution_count": 8,
   "metadata": {},
   "outputs": [],
   "source": [
    "#--------------------------------------------------------------\n",
    "#\n",
    "#--------------------------------------------------------------\n",
    "class Cosmology:\n",
    "    \"\"\"This object stores all relevant information wrt the background\n",
    "    cosmology, parametrized by OmegaM, OmegaL and H0.\"\"\"\n",
    "    def __init__(self, H0, OmegaM, OmegaL):\n",
    "        self.H0 = H0\n",
    "        self.OmegaM = OmegaM\n",
    "        self.OmegaL = OmegaL\n",
    "        self.OmegaK = 1 - OmegaM - OmegaL\n",
    "        self.grav_cst = 3./2 * OmegaM * H0**2\n",
    "\n",
    "    def adot(self, a):\n",
    "        return self.H0 * a * np.sqrt(self.OmegaL \\\n",
    "                + self.OmegaM * a**-3 \\\n",
    "                + self.OmegaK * a**-2)"
   ]
  },
  {
   "cell_type": "code",
   "execution_count": 9,
   "metadata": {},
   "outputs": [],
   "source": [
    "#--------------------------------------------------------------\n",
    "#\n",
    "#--------------------------------------------------------------\n",
    "class Solver:\n",
    "    \"\"\"Solves the Poisson-Vlasov equation for a gravitating pressureless \n",
    "    medium, in an expanding Universe. The equations are\n",
    "        ∇²φ = 3/2 Ωm H0² δ/a\n",
    "          ṗ = -∇φ\n",
    "          ẋ = p/a² ┌───────────────────────┐\n",
    "          ȧ = H0 a ⎷ΩΛ + Ωm a⁻³ + (1-Ω) a⁻²\n",
    "        solving for a by chain rule ẋ = ȧ dx/da.\"\"\"\n",
    "    def __init__(self, B, cosmology, dens, a_init):\n",
    "        self.B = B\n",
    "        self.cosmology = cosmology\n",
    "\n",
    "        u = self.B.compute_init_displacement(dens)\n",
    "        adot = cosmology.adot(a_init)\n",
    "\n",
    "        # p = a²ẋ\n",
    "        self.p = u * adot * a_init**2\n",
    "        # acc = -a∇φ = aṗ\n",
    "        self.acc = np.zeros_like(u)\n",
    "        # psi = x - q\n",
    "        self.psi = u * a_init\n",
    "\n",
    "    def deploy(self):\n",
    "        \"\"\"Deploy particles to compute densities. We interpolate a refined\n",
    "        lagrangian mesh and deposit those particles.\"\"\"\n",
    "        psi_x = Interp2D(self.psi[0])\n",
    "        psi_y = Interp2D(self.psi[1])\n",
    "        #start = timer()\n",
    "        qx = self.B.XX[:,0] * self.B.mass_res + psi_x(self.B.XX) \n",
    "        qy = self.B.XX[:,1] * self.B.mass_res + psi_y(self.B.XX)\n",
    "        #qx = self.B.XX[:,0] * self.B.mass_res \n",
    "        #qy = self.B.XX[:,1] * self.B.mass_res\n",
    "        #qx = psi_x(self.B.XX) \n",
    "        #qy = psi_y(self.B.XX)\n",
    "        #end = timer()\n",
    "        #print(\">>>    Time elapsed:\", end - start)\n",
    "        self.dens = self.B.compute_density(np.c_[qx,qy]) - 1\n",
    "\n",
    "    def gravitate(self):\n",
    "        \"\"\"Compute the gravitational acceleration from the density.\"\"\"\n",
    "        potF = - fft.fftn(self.dens) / self.B.kf2 \\\n",
    "        * self.B.force_res**2 * self.cosmology.grav_cst\n",
    "        # potF = np.where(self.B.kf2 >= np.pi**2, 0, potF)\n",
    "        potF[0,0] = 0\n",
    "\n",
    "        self.pot = fft.ifftn(potF).real\n",
    "        #self.E_acc_x = - gradient_2nd_order(self.pot, 0) \\\n",
    "        self.E_acc_x = - gradient_dual(self.pot, 0) / self.B.force_res\n",
    "        self.E_acc_y = - gradient_dual(self.pot, 1) / self.B.force_res\n",
    "\n",
    "        acc_x = Interp2D(self.E_acc_x)\n",
    "        acc_y = Interp2D(self.E_acc_y)\n",
    "\n",
    "        x = ((self.B.MX + self.psi) % self.B.L).transpose( \\\n",
    "                [1,2,0]).reshape((self.B.Nm**2, 2)) / self.B.force_res\n",
    "\n",
    "        self.acc[0,:,:] = acc_x(x - [0, 0.5]).reshape((self.B.Nm, self.B.Nm))\n",
    "        self.acc[1,:,:] = acc_y(x - [0.5, 0]).reshape((self.B.Nm, self.B.Nm))\n",
    "\n",
    "    def kick(self, a, da):\n",
    "        \"\"\"the kick\"\"\"\n",
    "        adot = self.cosmology.adot(a)\n",
    "        self.p += da / (adot * a) * self.acc\n",
    "\n",
    "    def drift(self, a, da):\n",
    "        \"\"\"the drift\"\"\"\n",
    "        adot = self.cosmology.adot(a)\n",
    "        self.psi += da / (adot * a**2) * self.p\n",
    "\n",
    "    def first_step(self, a, da):\n",
    "        self.deploy()\n",
    "        self.gravitate()\n",
    "        return self.next_step(a, da)\n",
    "\n",
    "    def next_step(self, a, da):\n",
    "        \"\"\"leap-frog algorithm, kick-drift-kick\"\"\"\n",
    "        self.kick(a, da/2)\n",
    "        self.drift(a, da)\n",
    "        self.deploy()\n",
    "        self.gravitate()\n",
    "        self.kick(a + da, da/2)\n",
    "        return a + da\n",
    "\n",
    "    def save_snapshot_bin(self, npart, box, OmegaM,OmegaL,H0, a):\n",
    "        f = open(\"snap-%05u.xy\" % int(round(a*1000)), \"w\")\n",
    "                \n",
    "        np.array([npart], dtype='int32').tofile(f)\n",
    "        np.array([box,OmegaM,OmegaL,H0,a], dtype='float32').tofile(f)\n",
    "                \n",
    "        x = np.array((self.B.X[0] * self.B.mass_res).flat) + np.array(self.psi[0].flat)\n",
    "        y = np.array((self.B.X[1] * self.B.mass_res).flat) + np.array(self.psi[1].flat)\n",
    "\n",
    "        xy = np.array(list(zip(x,y)))\n",
    "        xy.astype(dtype='float32').tofile(f)\n",
    "        f.close()\n",
    "        \n",
    "    def plot(self):\n",
    "        x = np.array((self.B.X[0] * self.B.mass_res).flat) + np.array(self.psi[0].flat)\n",
    "        y = np.array((self.B.X[1] * self.B.mass_res).flat) + np.array(self.psi[1].flat)\n",
    "        plt.scatter(x,y, s=1, marker=',')\n",
    "        plt.show()\n"
   ]
  },
  {
   "cell_type": "code",
   "execution_count": 10,
   "metadata": {},
   "outputs": [],
   "source": [
    "def make_P(B, n):\n",
    "    return lambda k: np.where(k > 0, (k/B.mass_res)**n, 0)\n",
    "\n",
    "def scale_filter(t, gamma):\n",
    "    return lambda K: np.exp(-(2 - gamma) * t + \\\n",
    "        (1 - gamma) * (np.cos(K[0]) + np.cos(K[1])) * \\\n",
    "         t + gamma * np.cos(K[0]) * np.cos(K[1]) * t)\n",
    "\n",
    "def make_F(B, S):\n",
    "    return lambda k: np.exp(-0.5 * (S/B.mass_res)**2 * k**2)"
   ]
  },
  {
   "cell_type": "code",
   "execution_count": null,
   "metadata": {},
   "outputs": [],
   "source": []
  },
  {
   "cell_type": "code",
   "execution_count": 11,
   "metadata": {},
   "outputs": [],
   "source": [
    "L   = 64.0  #--- box size\n",
    "Nm  = 64    #--- particle grid size\n",
    "Nf  = 128\n",
    "Np  = Nm*Nm  #--- Number of particles\n",
    "\n",
    "#--- Smoothing scale (initial conditions)\n",
    "sigma_Mpc = 1.0\n",
    "sigma_pix = sigma_Mpc*Nm/L\n",
    "\n",
    "#--- Power spectrum\n",
    "Sw =  0.05\n",
    "n  = -0.98\n",
    "\n",
    "#--- Cosmological parameters\n",
    "H0     = 68.0\n",
    "OmegaM = 0.32\n",
    "OmegaL = 0.68\n",
    "\n",
    "#--- Initial scale factor and (fixed) step size\n",
    "a_init = 0.01\n",
    "da     = 0.01"
   ]
  },
  {
   "cell_type": "code",
   "execution_count": null,
   "metadata": {},
   "outputs": [],
   "source": []
  },
  {
   "cell_type": "code",
   "execution_count": 12,
   "metadata": {},
   "outputs": [
    {
     "data": {
      "image/png": "[encoded data removed]",
      "text/plain": [
       "<Figure size 432x432 with 1 Axes>"
      ]
     },
     "metadata": {
      "needs_background": "light"
     },
     "output_type": "display_data"
    }
   ],
   "source": [
    "#--- Cosmology\n",
    "C = Cosmology(H0, OmegaM, OmegaL)\n",
    "\n",
    "#--- Computational box\n",
    "B = Box(Nm, Nf, L, 4)\n",
    "\n",
    "#--- Generate initial density field\n",
    "dens = B.generate_init_density(make_P(B, n), scale_filter(Sw / B.mass_res, 4.0/9.0))\n",
    "#dens /= dens.std()\n",
    "#dens *= 10\n",
    "        \n",
    "#--- Smooth initial conditions\n",
    "dens = ndimage.gaussian_filter(dens, sigma=(sigma_pix), order=0)\n",
    "\n",
    "tvscale(dens)"
   ]
  },
  {
   "cell_type": "code",
   "execution_count": 13,
   "metadata": {},
   "outputs": [
    {
     "name": "stderr",
     "output_type": "stream",
     "text": [
      "...................................................................................................."
     ]
    },
    {
     "name": "stdout",
     "output_type": "stream",
     "text": [
      ">>> Time elapsed: 38.65488019299994\n"
     ]
    }
   ],
   "source": [
    "S = Solver(B, C, dens, a_init)\n",
    "a = S.first_step(a_init, da)\n",
    "#S.save_snapshot_bin(Np, L, OmegaM,OmegaL,H0, a)\n",
    "        \n",
    "for i in range(100):\n",
    "\n",
    "    a = S.next_step(a, da)\n",
    "    #S.save_snapshot_bin(Np, L, OmegaM,OmegaL,H0, a)\n",
    "\n",
    "    sys.stderr.write('.')\n",
    "    sys.stderr.flush()\n",
    "\n",
    "end = timer()\n",
    "print(\">>> Time elapsed:\", end - start)\n"
   ]
  },
  {
   "cell_type": "code",
   "execution_count": 14,
   "metadata": {},
   "outputs": [
    {
     "data": {
      "image/png": "[encoded data removed]",
      "text/plain": [
       "<Figure size 432x432 with 1 Axes>"
      ]
     },
     "metadata": {
      "needs_background": "light"
     },
     "output_type": "display_data"
    }
   ],
   "source": [
    "S.plot()"
   ]
  },
  {
   "cell_type": "code",
   "execution_count": null,
   "metadata": {},
   "outputs": [],
   "source": []
  },
  {
   "cell_type": "code",
   "execution_count": null,
   "metadata": {},
   "outputs": [],
   "source": []
  }
 ],
 "metadata": {
  "kernelspec": {
   "display_name": "Python [conda env:pm2d_cuda]",
   "language": "python",
   "name": "conda-env-pm2d_cuda-py"
  },
  "language_info": {
   "codemirror_mode": {
    "name": "ipython",
    "version": 3
   },
   "file_extension": ".py",
   "mimetype": "text/x-python",
   "name": "python",
   "nbconvert_exporter": "python",
   "pygments_lexer": "ipython3",
   "version": "3.5.6"
  }
 },
 "nbformat": 4,
 "nbformat_minor": 2
}
